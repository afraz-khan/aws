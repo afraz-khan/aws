{
 "cells": [
  {
   "cell_type": "markdown",
   "metadata": {},
   "source": [
    "## Trusted Identity Propagation with S3 Access Grants"
   ]
  },
  {
   "cell_type": "markdown",
   "metadata": {},
   "source": [
    "Use this notebook to demonstrate the Trusted Identity Propagation feature of IAM Identity\n",
    "Center in the context of the S3 Access Grants use case."
   ]
  },
  {
   "cell_type": "markdown",
   "metadata": {},
   "source": [
    "### Prerequisites"
   ]
  },
  {
   "cell_type": "markdown",
   "metadata": {},
   "source": [
    "Make sure the default IAM principal _(In this case, IAM Role assigned to the Sagemaker notebook instance)_ has below permissions."
   ]
  },
  {
   "cell_type": "markdown",
   "metadata": {},
   "source": [
    "**OIDC-Policy**\n",
    "\n"
   ]
  },
  {
   "cell_type": "markdown",
   "metadata": {},
   "source": [
    "```\n",
    "{\n",
    "  \"Version\": \"2012-10-17\",\n",
    "  \"Statement\": [\n",
    "    {\n",
    "      \"Sid\": \"VisualEditor0\",\n",
    "      \"Effect\": \"Allow\",\n",
    "      \"Action\": \"sso-oauth:CreateTokenWithIAM\",\n",
    "      \"Resource\": \"*\"\n",
    "    }\n",
    "  ]\n",
    "}\n",
    "```"
   ]
  },
  {
   "cell_type": "markdown",
   "metadata": {},
   "source": [
    "**Sts-Policy**\n",
    "\n"
   ]
  },
  {
   "cell_type": "markdown",
   "metadata": {},
   "source": [
    "```\n",
    "{\n",
    "  \"Version\": \"2012-10-17\",\n",
    "  \"Statement\": [\n",
    "    {\n",
    "      \"Sid\": \"VisualEditor0\",\n",
    "      \"Effect\": \"Allow\",\n",
    "      \"Action\": [\n",
    "        \"sts:SetContext\",\n",
    "        \"sts:AssumeRole\",\n",
    "        \"sts:SetSourceIdentity\"\n",
    "      ],\n",
    "      \"Resource\": \"arn:aws:iam::{ACCOUNT_ID}:role/S3DataAccessRole\"\n",
    "    }\n",
    "  ]\n",
    "}\n",
    "```"
   ]
  },
  {
   "cell_type": "markdown",
   "metadata": {},
   "source": [
    "**Secrets-Manager-Policy**\n",
    "\n"
   ]
  },
  {
   "cell_type": "markdown",
   "metadata": {},
   "source": [
    "```\n",
    "{\n",
    "  \"Version\": \"2012-10-17\",\n",
    "  \"Statement\": [\n",
    "    {\n",
    "      \"Sid\": \"VisualEditor0\",\n",
    "      \"Effect\": \"Allow\",\n",
    "      \"Action\": \"secretsmanager:GetSecretValue\",\n",
    "      \"Resource\": \"{SECRET-ARN}\"\n",
    "    }\n",
    "  ]\n",
    "}\n",
    "```"
   ]
  },
  {
   "cell_type": "code",
   "execution_count": null,
   "metadata": {
    "vscode": {
     "languageId": "plaintext"
    }
   },
   "outputs": [],
   "source": [
    "import jwt\n",
    "import json\n",
    "import boto3\n",
    "import logging\n",
    "import requests\n",
    "from botocore.config import Config\n",
    "from botocore.exceptions import ClientError"
   ]
  },
  {
   "cell_type": "markdown",
   "metadata": {},
   "source": [
    "### Constants"
   ]
  },
  {
   "cell_type": "code",
   "execution_count": null,
   "metadata": {
    "vscode": {
     "languageId": "plaintext"
    }
   },
   "outputs": [],
   "source": [
    "REGION = \"REGION\"\n",
    "ACCOUNT_ID= \"ACCOUNT_ID\"\n",
    "API_ENDPOINT = \"API_URL\" # This endpoint hosts the login/auth route"
   ]
  },
  {
   "cell_type": "markdown",
   "metadata": {},
   "source": [
    "### Utility Methods"
   ]
  },
  {
   "cell_type": "code",
   "execution_count": null,
   "metadata": {
    "vscode": {
     "languageId": "plaintext"
    }
   },
   "outputs": [],
   "source": [
    "def get_iam_oidc_token(id_token):\n",
    "    \"\"\"\n",
    "    Get the IAM OIDC token using the ID token retrieved from Cognito\n",
    "    \"\"\"\n",
    "    client = boto3.client(\"sso-oidc\", region_name=REGION)\n",
    "    response = client.create_token_with_iam(\n",
    "        clientId=IDC_APPLICATION_ID,\n",
    "        grantType=\"urn:ietf:params:oauth:grant-type:jwt-bearer\",\n",
    "        assertion=id_token,\n",
    "    )\n",
    "\n",
    "    print('Token fetched from IAM Identity Center.')\n",
    "    \n",
    "    return response\n",
    "\n",
    "\n",
    "def assume_role_with_identity_context(\n",
    "    role_arn: str, session_name: str, context_assertion: str\n",
    "):\n",
    "    sts = boto3.client(\"sts\")\n",
    "    response = sts.assume_role(\n",
    "        RoleArn=role_arn,\n",
    "        RoleSessionName=session_name,\n",
    "        ProvidedContexts=[\n",
    "            {\n",
    "                \"ProviderArn\": \"arn:aws:iam::aws:contextProvider/IdentityCenter\",\n",
    "                \"ContextAssertion\": context_assertion,\n",
    "            }\n",
    "        ],\n",
    "    )\n",
    "\n",
    "    print('IAM Role is assumed successfully.')\n",
    "\n",
    "    return response[\"Credentials\"]\n",
    "\n",
    "\n",
    "def get_data_access_for_bucket(credentials: dict, bucket_uri: str, permissions: str):\n",
    "    s3control = botos. client(\n",
    "        \"s3control\",\n",
    "        region_name=REGION,\n",
    "        aws_access_key_id=credentials[\"AccessKeyId\"],\n",
    "        aws_secret_access_key=credentials[\"SecretAccessKey\"],\n",
    "        aws_session_token=credentials[\"SessionToken\"],\n",
    "    )\n",
    "\n",
    "    response = s3control.get_data_access(\n",
    "        AccountId=ACCOUNT_ID, Target=bucket_uri, Permission=permissions\n",
    "    )\n",
    "    \n",
    "    return response[\"Credentials\"]\n",
    "\n",
    "\n",
    "def list_objects_with_data_access(data_access_credentials: dict, bucket: str):\n",
    "    s3 = boto3.client(\n",
    "        \"s3\",\n",
    "        aws_access_key_id=data_access_credentials[\"AccessKeyId\"],\n",
    "        aws_secret_access_key=data_access_credentials[\"SecretAccessKey\"],\n",
    "        aws_session_token=data_access_credentials[\"SessionToken\"],\n",
    "    )\n",
    "\n",
    "    response = s3.list_objects_v2(Bucket=bucket)\n",
    "\n",
    "    if \"Contents\" in response:\n",
    "        print(f\"Objects in bucket '{bucket}':\")\n",
    "        for obj in response[\"Contents\"]:\n",
    "            print(f\"- {obj['Key']}\")\n",
    "    else:\n",
    "        print(\"No objects found or permission denied.\")\n",
    "\n",
    "\n",
    "def get_secret(secret_name):\n",
    "    # Create a Secrets Manager client\n",
    "    session = boto3.session.Session()\n",
    "    client = session.client(service_name='secretsmanager', region_name=REGION)\n",
    "\n",
    "    try:\n",
    "        response = client.get_secret_value(SecretId=secret_name)\n",
    "    except ClientError as e:\n",
    "        raise Exception(f\"Unable to retrieve secret:{e}\")\n",
    "\n",
    "    # Parse the secret string\n",
    "    if 'SecretString' in response:\n",
    "        secret = json.loads(response['SecretString'])\n",
    "        return secret\n",
    "    else:\n",
    "        raise Exception(\"Secret binary is not supported in this example.\")\n",
    "\n",
    "\n",
    "def login(user_creds):\n",
    "    payload = {\n",
    "        \"email\": user_creds[\"username\"],\n",
    "        \"password\": user_creds[\"password\"]\n",
    "    }\n",
    "    \n",
    "    url = f\"{API_ENDPOINT}/users/login\"\n",
    "    \n",
    "    try:\n",
    "        response = requests.post(url, json=payload)\n",
    "        response raise_for_status() # raises error for HTTP 4xx/5xx\n",
    "        \n",
    "        response = response.json()\n",
    "    \n",
    "        print (\"Login successful!\")\n",
    "        print(\"Response:\", response)\n",
    "        return response[ 'token']\n",
    "    except requests.exceptions.RequestException as e:\n",
    "        print(\"Login failed.\")\n",
    "        print(\"Error:\", e)\n",
    "        if response is not None:\n",
    "            print(\"Response body:\", response.text)"
   ]
  },
  {
   "cell_type": "markdown",
   "metadata": {},
   "source": [
    "### 0. Fetch the Application ID Token\n",
    "Application user credentials are fetched from the Secrets Manager."
   ]
  },
  {
   "cell_type": "code",
   "execution_count": null,
   "metadata": {},
   "outputs": [],
   "source": [
    "TIP_APP_USER_CREDS = \"{secrets-manager-secret-name}\" # It contains the account credentials\n",
    "\n",
    "user_creds = get_secret(TIP_APP_USER_CREDS)\n",
    "\n",
    "APP_ID_TOKEN = login(user_creds)"
   ]
  },
  {
   "cell_type": "markdown",
   "metadata": {},
   "source": [
    "### 1. Fetch the IAM Identity Center ID Token\n",
    "Application IdToken is exchanged with an IAM Identity Center IdToken which contains the User Identity Context."
   ]
  },
  {
   "cell_type": "code",
   "execution_count": null,
   "metadata": {},
   "outputs": [],
   "source": [
    "IDC_APPLICATION_ID = (\n",
    "    \"arn:aws:sso::AWS_ACCOUNT_ID:application/ssoins-{APP_ID}\n",
    ") # Put the Identity Center ID here\n",
    "\n",
    "res = get_iam_oide_token(APP_ID_TOKEN)\n",
    "\n",
    "decoded_id_token = jwt.decode(\n",
    "    res[\"idToken\"], options={\"verify_signature\": False}\n",
    ") # Decode the idToken without verifying the signature\n",
    "\n",
    "print(decoded_id_token)\n",
    "\n",
    "IDENTITY_CONTEXT = decoded_id_token[\"sts:identity_context\"]"
   ]
  },
  {
   "cell_type": "markdown",
   "metadata": {},
   "source": [
    "### 2. Assume the IAM Role\n",
    "This role must have permissions to access the data. `s3:GetDataAccess` in current usecase"
   ]
  },
  {
   "cell_type": "code",
   "execution_count": null,
   "metadata": {},
   "outputs": [],
   "source": [
    "CONTEXT_ASSERTION = IDENTITY_CONTEXT\n",
    "\n",
    "ID_ENHANCED_SESSION_NAME = \"S3AccessGrantsSession\"\n",
    "S3_DATA_ACCESS_ROLE_ARN = \"arn:aws:iam::AWS_ACCOUNT_ID:role/S3DataAccessRole\"\n",
    "\n",
    "aws_creds = assume_role_with_identity_context(\n",
    "    role_arn=S3_DATA_ACCESS_ROLE_ARN, session_name=ID_ENHANCED_SESSION_NAME, context_assertion=IDENTITY_CONTEXT\n",
    ")\n",
    "\n",
    "aws_creds"
   ]
  },
  {
   "cell_type": "markdown",
   "metadata": {},
   "source": [
    "### 3. Call the S3 GetDataAccess API\n",
    "This API validates the authorization for the directory user. Once authorization is passed, new aws credentials are generated to access the s3 data. **S3Control** SDK is used for that."
   ]
  },
  {
   "cell_type": "code",
   "execution_count": null,
   "metadata": {},
   "outputs": [],
   "source": [
    "BUCKET_NAME = \"BUCKET_NAME\" # bucket where use access is required\n",
    "BUCKET_URI = f\"s3://{BUCKET_NAME}\"\n",
    "\n",
    "data_access_creds = get_data_access_for_bucket(credentials=aws_creds, bucket_uri=BUCKET_URI)\n",
    "\n",
    "data_access_creds"
   ]
  },
  {
   "cell_type": "markdown",
   "metadata": {},
   "source": [
    "### 4. Access S3 Data\n",
    "Lets try to list the object keys in the bucket."
   ]
  },
  {
   "cell_type": "code",
   "execution_count": null,
   "metadata": {},
   "outputs": [],
   "source": [
    "list_objects_with_data_access(data_access_creds, BUCKET_NAME)"
   ]
  },
  {
   "cell_type": "markdown",
   "metadata": {},
   "source": [
    "### 5. Failure Scenario - Request WRITE Access ❌\n",
    "The `GetDataAccess` S3 API returns an AccessDenied error when authorization fails. In this example, we intentionally attempt an unauthorized (WRITE) access to demonstrate this behavior."
   ]
  },
  {
   "cell_type": "code",
   "execution_count": null,
   "metadata": {},
   "outputs": [],
   "source": [
    "data_access_creds = get_data_access_for_bucket(credentials=aws_creds, bucket_uri=BUCKET_URI)\n",
    "\n",
    "data_access_creds"
   ]
  }
 ],
 "metadata": {
  "kernelspec": {
   "display_name": "gen_ai_kernel",
   "language": "python",
   "name": "gen_ai_kernel"
  },
  "language_info": {
   "codemirror_mode": {
    "name": "ipython",
    "version": 3
   },
   "file_extension": ".py",
   "mimetype": "text/x-python",
   "name": "python",
   "nbconvert_exporter": "python",
   "pygments_lexer": "ipython3",
   "version": "3.11.9"
  }
 },
 "nbformat": 4,
 "nbformat_minor": 4
}
